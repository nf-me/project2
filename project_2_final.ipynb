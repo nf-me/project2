{
 "cells": [
  {
   "cell_type": "markdown",
   "id": "3034da35",
   "metadata": {},
   "source": [
    "# An analysis of paleo-present climate data"
   ]
  },
  {
   "cell_type": "markdown",
   "id": "30514196",
   "metadata": {},
   "source": [
    "## Table of Contents\n",
    "\n",
    "1. [Introduction](#Introduction)\n",
    "2. [Analyse CO2 vs Temperature Anomaly from 800kyrs – present](#Analyse-CO2-vs-Temperature-Anomaly-from-800kyrs-–-present)\n",
    "\n",
    "\n",
    "\n",
    "### Question\n",
    "\n",
    "- Analyse CO2 vs Temperature Anomaly from 800kyrs – present.\n",
    "- Examine one other (paleo/modern) features (e.g. CH4 or polar ice-coverage)\n",
    "- Examine Irish context:\n",
    "    - Climate change signals: (see Maynooth study: The emergence of a climate change signal in long-term Irish meteorological observations - ScienceDirect)\n",
    "- Fuse and analyse data from various data sources and format fused data set as a pandas dataframe and export to csv and json formats\n",
    "- For all of the above variables, analyse the data, the trends and the relationships between them (temporal leads/lags/frequency analysis).\n",
    "- Predict global temperature anomaly over next few decades (synthesise data) and compare to published climate models if atmospheric CO2 trends continue\n",
    "- Comment on accelerated warming based on very latest features (e.g. temperature/polar-ice-coverage\n",
    "\n",
    "---\n",
    "\n",
    "<a id='Introduction'></a>\n",
    "## 1. Introduction\n",
    "\n",
    "Fill in paragraph 1 \n",
    "\n",
    "Fill in paragraph 2 \n",
    "\n",
    "Fill in paragraph 3 "
   ]
  },
  {
   "cell_type": "markdown",
   "id": "eecb1ee8",
   "metadata": {},
   "source": [
    "<a id='Analyse-CO2-vs-Temperature-Anomaly-from-800kyrs-–-present'></a>\n",
    "## 2. Analyse CO2 vs Temperature Anomaly from 800kyrs – present\n"
   ]
  },
  {
   "cell_type": "code",
   "execution_count": 4,
   "id": "fedc3e4d",
   "metadata": {},
   "outputs": [],
   "source": [
    "# Data & libaries\n",
    "\n",
    "import pandas as pd\n",
    "import numpy as np\n",
    "\n",
    "# CO2 Data import 'grl52461-sup-0003-supplementary file on Moodle'\n",
    "# \n",
    "# Note: data source file was manually altered due to difficulties creating a dataframe whereby data matched full-data set [tab 3 CO2 Composite].\n",
    "    # 'date' and 'research' added into columns A & B to reflect colours on spreadsheet\n",
    "    # CO2 Composite file was then copied into a csv and copied down as old data\n",
    "\n"
   ]
  },
  {
   "cell_type": "code",
   "execution_count": null,
   "id": "f10e2034",
   "metadata": {},
   "outputs": [],
   "source": []
  }
 ],
 "metadata": {
  "kernelspec": {
   "display_name": "Python 3 (ipykernel)",
   "language": "python",
   "name": "python3"
  },
  "language_info": {
   "codemirror_mode": {
    "name": "ipython",
    "version": 3
   },
   "file_extension": ".py",
   "mimetype": "text/x-python",
   "name": "python",
   "nbconvert_exporter": "python",
   "pygments_lexer": "ipython3",
   "version": "3.9.13"
  }
 },
 "nbformat": 4,
 "nbformat_minor": 5
}
