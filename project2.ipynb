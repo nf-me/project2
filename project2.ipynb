{
 "cells": [
  {
   "cell_type": "markdown",
   "id": "771c05c5",
   "metadata": {},
   "source": [
    "## Data Imports\n",
    "    - CO2 Data\n",
    "    - Temperature\n",
    "    - CH4"
   ]
  },
  {
   "cell_type": "markdown",
   "id": "5744a574",
   "metadata": {},
   "source": [
    "### CO2 Data"
   ]
  },
  {
   "cell_type": "markdown",
   "id": "7c35b1dd",
   "metadata": {},
   "source": [
    "#### Import Libaries"
   ]
  },
  {
   "cell_type": "code",
   "execution_count": 26,
   "id": "a1bd2c7c",
   "metadata": {},
   "outputs": [],
   "source": [
    "import pandas as pd"
   ]
  },
  {
   "cell_type": "markdown",
   "id": "9291be83",
   "metadata": {},
   "source": [
    "Linking file path to MSExcel file and creating variables for ease of use"
   ]
  },
  {
   "cell_type": "code",
   "execution_count": 27,
   "id": "e0788d23",
   "metadata": {},
   "outputs": [],
   "source": [
    "file_path = r'C:\\Users\\neilf\\gitrepos\\pfdaP2\\moodle_downloads\\41586_2008_BFnature06949_MOESM31_ESM.xls'"
   ]
  },
  {
   "cell_type": "markdown",
   "id": "ffa9eb7a",
   "metadata": {},
   "source": [
    "Creating DataFrames"
   ]
  },
  {
   "cell_type": "code",
   "execution_count": 34,
   "id": "dfc64932",
   "metadata": {},
   "outputs": [],
   "source": [
    "# Name for data sources (ds); manually entering names from ExcelSheet\n",
    "\n",
    "ds_source = {\n",
    "    'a': 'Dome C (0-22 kyr BP)',\n",
    "    'b': 'Vostok (0-440 kyr BP)',\n",
    "    'c': 'Taylor Dome (19-63 kyr BP)',\n",
    "    'd': 'Dome C (393-664 kyr BP)',\n",
    "    'e': 'Dome C (393-664 kyr BP)',\n",
    "    'f': 'Dome C (611-800 kyr BP)',\n",
    "    'g': 'Dome C (611-800 kyr BP)'\n",
    "}\n",
    "\n",
    "ds_research = {\n",
    "    'a': 'Monnin et al. (2001)',\n",
    "    'b': 'Petit et al. (1999), Pepin et al. (2001), Raynaud et al. (2005)',\n",
    "    'c': 'Indermühle et al. (2000)',\n",
    "    'd': 'Siegenthaler et al. (2005)',\n",
    "    'e': 'Siegenthaler et al. (2005)',\n",
    "    'f': 'Lüthi et al. (sub)',\n",
    "    'g': 'Lüthi et al. (sub)'    \n",
    "}\n",
    "\n",
    "ds_measured_at = {\n",
    "    'a': 'University of Bern',\n",
    "    'b': 'LGGE in Grenoble',\n",
    "    'c': 'University of Bern',\n",
    "    'd': 'University of Bern',\n",
    "    'e': 'LGGE in Grenoble',\n",
    "    'f': 'University of Bern',\n",
    "    'g': 'LGGE in Grenoble'    \n",
    "}\n",
    "\n",
    "ds_usecols = {\n",
    "    'a': \"A:D\",\n",
    "    'b': \"E:G\",\n",
    "    'c': \"H:K\",\n",
    "    'd': \"L:O\",\n",
    "    'e': \"P:R\",\n",
    "    'f': \"S:V\",\n",
    "    'g': \"W:Y\"   \n",
    "}\n",
    "\n",
    "# Name for DataFrame Headers (hd); manually entering names from ExcelSheet\n",
    "ds_headers = {\n",
    "    'a': ['depth_m', 'edc3_gas_a_yr', 'co2_ppmv', 'sigma_ppmv'],\n",
    "    'b': ['depth_m', 'edc3_gas_a_yr', 'co2_ppmv'],\n",
    "    'c': ['depth_m', 'edc3_gas_a_yr', 'co2_ppmv', 'sigma_ppmv'],\n",
    "    'd': ['depth_m', 'edc3_gas_a_yr', 'co2_ppmv', 'sigma_ppmv'],\n",
    "    'e': ['depth_m', 'edc3_gas_a_yr', 'co2_ppmv'],\n",
    "    'f': ['depth_m', 'edc3_gas_a_yr', 'co2_ppmv', 'sigma_ppmv'],\n",
    "    'g': ['depth_m', 'edc3_gas_a_yr', 'co2_ppmv'] \n",
    "}\n",
    "\n",
    "\n",
    "# DataFrame Compile\n",
    "dataframes = {}\n",
    "for key in ds_source.keys():\n",
    "    df = pd.read_excel(file_path, sheet_name=1, skiprows=7, usecols=ds_usecols[key])\n",
    "    df.columns = ds_headers[key]\n",
    "    df.insert(0, 'source', ds_source[key])\n",
    "    df.insert(1, 'research', ds_research[key])\n",
    "    df.insert(2, 'measured_at', ds_measured_at[key])\n",
    "\n",
    "    # Set 'sigma_ppmv' column to zero for data sources 'e' and 'g' if applicable\n",
    "    if key in ['b','e', 'g'] and 'sigma_ppmv' in df.columns:\n",
    "        df['sigma_ppmv'] = 0\n",
    "\n",
    "    dataframes[key] = df"
   ]
  },
  {
   "cell_type": "code",
   "execution_count": 35,
   "id": "bad29603",
   "metadata": {},
   "outputs": [
    {
     "name": "stdout",
     "output_type": "stream",
     "text": [
      "<class 'pandas.core.frame.DataFrame'>\n",
      "RangeIndex: 371 entries, 0 to 370\n",
      "Data columns (total 7 columns):\n",
      " #   Column         Non-Null Count  Dtype  \n",
      "---  ------         --------------  -----  \n",
      " 0   source         371 non-null    object \n",
      " 1   research       371 non-null    object \n",
      " 2   measured_at    371 non-null    object \n",
      " 3   depth_m        182 non-null    float64\n",
      " 4   edc3_gas_a_yr  182 non-null    float64\n",
      " 5   co2_ppmv       182 non-null    float64\n",
      " 6   sigma_ppmv     182 non-null    float64\n",
      "dtypes: float64(4), object(3)\n",
      "memory usage: 20.4+ KB\n"
     ]
    },
    {
     "data": {
      "text/html": [
       "<div>\n",
       "<style scoped>\n",
       "    .dataframe tbody tr th:only-of-type {\n",
       "        vertical-align: middle;\n",
       "    }\n",
       "\n",
       "    .dataframe tbody tr th {\n",
       "        vertical-align: top;\n",
       "    }\n",
       "\n",
       "    .dataframe thead th {\n",
       "        text-align: right;\n",
       "    }\n",
       "</style>\n",
       "<table border=\"1\" class=\"dataframe\">\n",
       "  <thead>\n",
       "    <tr style=\"text-align: right;\">\n",
       "      <th></th>\n",
       "      <th>source</th>\n",
       "      <th>research</th>\n",
       "      <th>measured_at</th>\n",
       "      <th>depth_m</th>\n",
       "      <th>edc3_gas_a_yr</th>\n",
       "      <th>co2_ppmv</th>\n",
       "      <th>sigma_ppmv</th>\n",
       "    </tr>\n",
       "  </thead>\n",
       "  <tbody>\n",
       "    <tr>\n",
       "      <th>0</th>\n",
       "      <td>Dome C (0-22 kyr BP)</td>\n",
       "      <td>Monnin et al. (2001)</td>\n",
       "      <td>University of Bern</td>\n",
       "      <td>106.89</td>\n",
       "      <td>268.0</td>\n",
       "      <td>274.9</td>\n",
       "      <td>0.7</td>\n",
       "    </tr>\n",
       "    <tr>\n",
       "      <th>1</th>\n",
       "      <td>Dome C (0-22 kyr BP)</td>\n",
       "      <td>Monnin et al. (2001)</td>\n",
       "      <td>University of Bern</td>\n",
       "      <td>107.20</td>\n",
       "      <td>279.0</td>\n",
       "      <td>277.9</td>\n",
       "      <td>0.7</td>\n",
       "    </tr>\n",
       "    <tr>\n",
       "      <th>2</th>\n",
       "      <td>Dome C (0-22 kyr BP)</td>\n",
       "      <td>Monnin et al. (2001)</td>\n",
       "      <td>University of Bern</td>\n",
       "      <td>110.25</td>\n",
       "      <td>395.0</td>\n",
       "      <td>279.1</td>\n",
       "      <td>1.3</td>\n",
       "    </tr>\n",
       "    <tr>\n",
       "      <th>3</th>\n",
       "      <td>Dome C (0-22 kyr BP)</td>\n",
       "      <td>Monnin et al. (2001)</td>\n",
       "      <td>University of Bern</td>\n",
       "      <td>110.50</td>\n",
       "      <td>404.0</td>\n",
       "      <td>281.9</td>\n",
       "      <td>1.1</td>\n",
       "    </tr>\n",
       "    <tr>\n",
       "      <th>4</th>\n",
       "      <td>Dome C (0-22 kyr BP)</td>\n",
       "      <td>Monnin et al. (2001)</td>\n",
       "      <td>University of Bern</td>\n",
       "      <td>113.27</td>\n",
       "      <td>485.0</td>\n",
       "      <td>277.7</td>\n",
       "      <td>0.7</td>\n",
       "    </tr>\n",
       "  </tbody>\n",
       "</table>\n",
       "</div>"
      ],
      "text/plain": [
       "                 source              research         measured_at  depth_m  \\\n",
       "0  Dome C (0-22 kyr BP)  Monnin et al. (2001)  University of Bern   106.89   \n",
       "1  Dome C (0-22 kyr BP)  Monnin et al. (2001)  University of Bern   107.20   \n",
       "2  Dome C (0-22 kyr BP)  Monnin et al. (2001)  University of Bern   110.25   \n",
       "3  Dome C (0-22 kyr BP)  Monnin et al. (2001)  University of Bern   110.50   \n",
       "4  Dome C (0-22 kyr BP)  Monnin et al. (2001)  University of Bern   113.27   \n",
       "\n",
       "   edc3_gas_a_yr  co2_ppmv  sigma_ppmv  \n",
       "0          268.0     274.9         0.7  \n",
       "1          279.0     277.9         0.7  \n",
       "2          395.0     279.1         1.3  \n",
       "3          404.0     281.9         1.1  \n",
       "4          485.0     277.7         0.7  "
      ]
     },
     "execution_count": 35,
     "metadata": {},
     "output_type": "execute_result"
    }
   ],
   "source": [
    "dataframes['a'].info()\n",
    "dataframes['a'].head()"
   ]
  },
  {
   "cell_type": "markdown",
   "id": "864ee338",
   "metadata": {},
   "source": [
    "Output DataFrame"
   ]
  }
 ],
 "metadata": {
  "kernelspec": {
   "display_name": "Python 3 (ipykernel)",
   "language": "python",
   "name": "python3"
  },
  "language_info": {
   "codemirror_mode": {
    "name": "ipython",
    "version": 3
   },
   "file_extension": ".py",
   "mimetype": "text/x-python",
   "name": "python",
   "nbconvert_exporter": "python",
   "pygments_lexer": "ipython3",
   "version": "3.9.13"
  }
 },
 "nbformat": 4,
 "nbformat_minor": 5
}
